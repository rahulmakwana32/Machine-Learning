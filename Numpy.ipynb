{
  "nbformat": 4,
  "nbformat_minor": 0,
  "metadata": {
    "colab": {
      "provenance": [],
      "authorship_tag": "ABX9TyO7qkRp4Hhhbv8NGsECtBgW",
      "include_colab_link": true
    },
    "kernelspec": {
      "name": "python3",
      "display_name": "Python 3"
    },
    "language_info": {
      "name": "python"
    }
  },
  "cells": [
    {
      "cell_type": "markdown",
      "metadata": {
        "id": "view-in-github",
        "colab_type": "text"
      },
      "source": [
        "<a href=\"https://colab.research.google.com/github/rahulmakwana32/Machine-Learning/blob/main/Numpy.ipynb\" target=\"_parent\"><img src=\"https://colab.research.google.com/assets/colab-badge.svg\" alt=\"Open In Colab\"/></a>"
      ]
    },
    {
      "cell_type": "markdown",
      "source": [],
      "metadata": {
        "id": "xPZcxD-6r0Zk"
      }
    },
    {
      "cell_type": "markdown",
      "source": [
        "####NumPy Using Python####"
      ],
      "metadata": {
        "id": "SJVcbIgor1nz"
      }
    },
    {
      "cell_type": "code",
      "source": [
        "import numpy as np"
      ],
      "metadata": {
        "id": "rMv11nS5r8Q1"
      },
      "execution_count": 1,
      "outputs": []
    },
    {
      "cell_type": "markdown",
      "source": [],
      "metadata": {
        "id": "_v2eCGFJs0JD"
      }
    },
    {
      "cell_type": "markdown",
      "source": [
        "List vs Numpy\n",
        "\n"
      ],
      "metadata": {
        "id": "S9AiCPTEs3QH"
      }
    },
    {
      "cell_type": "code",
      "source": [
        "from time import process_time"
      ],
      "metadata": {
        "id": "XUINGLTns6ca"
      },
      "execution_count": 2,
      "outputs": []
    },
    {
      "cell_type": "markdown",
      "source": [
        "Python time taken by List"
      ],
      "metadata": {
        "id": "fLBwZDnEtE6n"
      }
    },
    {
      "cell_type": "code",
      "source": [
        "myList= [i for i in range(1000000)]\n",
        "start= process_time()\n",
        "myList= [i+5 for i in myList]\n",
        "end= process_time()\n",
        "print(end-start)"
      ],
      "metadata": {
        "colab": {
          "base_uri": "https://localhost:8080/"
        },
        "id": "GIuVxAodtIf-",
        "outputId": "3214ce33-10ee-4a43-948a-4f8599f5457d"
      },
      "execution_count": 4,
      "outputs": [
        {
          "output_type": "stream",
          "name": "stdout",
          "text": [
            "0.0839856000000001\n"
          ]
        }
      ]
    },
    {
      "cell_type": "markdown",
      "source": [
        "Python time take by numpy"
      ],
      "metadata": {
        "id": "XrSrEPK_tkcu"
      }
    },
    {
      "cell_type": "code",
      "source": [
        "np_array=np.array([i for i in range(1000000)])\n",
        "start= process_time()\n",
        "np_array+=5\n",
        "end= process_time()\n",
        "print(end-start)"
      ],
      "metadata": {
        "colab": {
          "base_uri": "https://localhost:8080/"
        },
        "id": "tMlTu8Pgtq1f",
        "outputId": "58db86ce-0d47-40d8-cede-ae7249b9d06e"
      },
      "execution_count": 5,
      "outputs": [
        {
          "output_type": "stream",
          "name": "stdout",
          "text": [
            "0.0014593819999992874\n"
          ]
        }
      ]
    },
    {
      "cell_type": "markdown",
      "source": [
        "Numpy Arrays"
      ],
      "metadata": {
        "id": "bT6NakDKuX9E"
      }
    },
    {
      "cell_type": "markdown",
      "source": [],
      "metadata": {
        "id": "FvBE0BH_uX1N"
      }
    },
    {
      "cell_type": "code",
      "source": [],
      "metadata": {
        "id": "MFIpBLKXucbj"
      },
      "execution_count": null,
      "outputs": []
    }
  ]
}